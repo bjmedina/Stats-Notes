{
 "cells": [
  {
   "cell_type": "markdown",
   "metadata": {},
   "source": [
    "# January 14, 2019\n",
    "# Chapter 2 (Cont.)"
   ]
  },
  {
   "cell_type": "markdown",
   "metadata": {},
   "source": [
    "## In Summary ...\n",
    "---\n",
    "\n",
    "__Stem & Leaf__: Better for smaller sets of data\n",
    "\n",
    "__Histograms__: Better for larger sets of data\n",
    "\n",
    "> __NOTE__: In either case, you should always do some type of graphical display to check any assumptions you make about a data set"
   ]
  },
  {
   "cell_type": "markdown",
   "metadata": {},
   "source": [
    "## Summation Notation\n",
    "---\n",
    "Let $x_1, x_2, ... x_n$ represent the $n$ elements of a data set.\n",
    "\n",
    "Then, $ \\sum_{i=1}^{n} {x} $, where $i$ is the starting index (or number) and $n$ is the last."
   ]
  },
  {
   "cell_type": "markdown",
   "metadata": {},
   "source": [
    "## Example"
   ]
  },
  {
   "cell_type": "code",
   "execution_count": 11,
   "metadata": {},
   "outputs": [],
   "source": [
    "# Dataset (Number of siblings)\n",
    "x = [1, 4, 3, 2, 2, 1, 0]"
   ]
  },
  {
   "cell_type": "code",
   "execution_count": 13,
   "metadata": {},
   "outputs": [
    {
     "data": {
      "text/plain": [
       "13"
      ]
     },
     "execution_count": 13,
     "metadata": {},
     "output_type": "execute_result"
    }
   ],
   "source": [
    "# Sum of all x? \n",
    "total = sum(x)\n",
    "print(total)"
   ]
  },
  {
   "cell_type": "code",
   "execution_count": 21,
   "metadata": {},
   "outputs": [
    {
     "name": "stdout",
     "output_type": "stream",
     "text": [
      "35\n"
     ]
    }
   ],
   "source": [
    "# Sum of all x^2?\n",
    "total = 0\n",
    "\n",
    "for i in x:\n",
    "    total = total + i ** 2\n",
    "    \n",
    "print(total)"
   ]
  },
  {
   "cell_type": "code",
   "execution_count": 24,
   "metadata": {},
   "outputs": [
    {
     "name": "stdout",
     "output_type": "stream",
     "text": [
      "169\n"
     ]
    }
   ],
   "source": [
    "# (Sum of all x) ^ 2? \n",
    "total = (sum(x)) ** 2\n",
    "\n",
    "print(total)"
   ]
  },
  {
   "cell_type": "code",
   "execution_count": 26,
   "metadata": {},
   "outputs": [
    {
     "name": "stdout",
     "output_type": "stream",
     "text": [
      "6\n"
     ]
    }
   ],
   "source": [
    "# What's the sum(x-1) ? \n",
    "total = 0\n",
    "\n",
    "for i in x:\n",
    "    total = total + (i - 1)\n",
    "    \n",
    "print(total)"
   ]
  },
  {
   "cell_type": "markdown",
   "metadata": {},
   "source": [
    "## Section 2.3: Numerical Measures of Center\n",
    "---"
   ]
  },
  {
   "cell_type": "markdown",
   "metadata": {},
   "source": [
    "Does the data tend to cluster about a certain value?\n",
    "\n",
    "## Three Measures of Central Tendency\n",
    "---\n",
    "\n",
    "### 1. Mean - \"Typical\" Response\n",
    "\n",
    "The sum of the measurements divided by the number of subjects\n",
    "\n",
    "$ \\bar{x} = \\dfrac{ \\sum x_i } n $, where $n$ is the sample size, and\n"
   ]
  },
  {
   "cell_type": "markdown",
   "metadata": {},
   "source": [
    "$ \\bar{x} $ = \" x bar \" or \" sample mean \", and"
   ]
  },
  {
   "cell_type": "markdown",
   "metadata": {},
   "source": [
    "$ \\mu $ = population mean. \n",
    "\n",
    "> __Note__: The mean is influenced by outliers (and is pulled in the direction of the outlier)"
   ]
  },
  {
   "cell_type": "markdown",
   "metadata": {},
   "source": [
    "## Example"
   ]
  },
  {
   "cell_type": "code",
   "execution_count": 27,
   "metadata": {},
   "outputs": [],
   "source": [
    "grades = [100, 100, 100, 0]\n",
    "#                        ^ the outlier... has great affect on the mean"
   ]
  },
  {
   "cell_type": "markdown",
   "metadata": {},
   "source": [
    "$ \\bar{x} $ = 75... but most grades 100"
   ]
  },
  {
   "cell_type": "markdown",
   "metadata": {},
   "source": [
    "\n",
    "\n",
    "## 2. Median is the:\n",
    "\t-number in the middle if n is odd\n",
    "\t-average of the 2 numbers in the middle if n is even\n",
    "    \n",
    "-The measurement in the middle when the data are ordered from lowest to highest\n",
    "\n",
    "-GREAT for highly skewed data (outliers have no effect on the median)"
   ]
  },
  {
   "cell_type": "markdown",
   "metadata": {},
   "source": [
    "_Notation:_\n",
    "    \n",
    "M = sample median, \n",
    "$ \\eta $ = population median"
   ]
  },
  {
   "cell_type": "markdown",
   "metadata": {},
   "source": [
    "## 3. Mode\n",
    "\n",
    "> __NOTE__: \n",
    "1. Appropriate for all types of data \n",
    "    (not as popular for quantitative data)\n",
    "2. Can be bimodal, trimodal, etc.\n",
    "3. There can be no mode\n",
    "        \n",
    "## Example:"
   ]
  },
  {
   "cell_type": "code",
   "execution_count": 30,
   "metadata": {},
   "outputs": [],
   "source": [
    "Age = [22, 21, 39, 24, 20, 19, 19, 23]\n",
    "# Note: This is sample data, out of a population of 65"
   ]
  },
  {
   "cell_type": "markdown",
   "metadata": {},
   "source": [
    "If asked to find measures of center, there are 3 things to find, in order.\n",
    "\n",
    "First, put data in order."
   ]
  },
  {
   "cell_type": "code",
   "execution_count": 32,
   "metadata": {},
   "outputs": [
    {
     "name": "stdout",
     "output_type": "stream",
     "text": [
      "[19, 19, 20, 21, 22, 23, 24, 39]\n"
     ]
    }
   ],
   "source": [
    "Age.sort()\n",
    "print(Age)"
   ]
  },
  {
   "cell_type": "markdown",
   "metadata": {},
   "source": [
    "Now, you can find your measures of center.\n",
    "\n",
    "1. Mode = 19\n",
    "2. Median M = $ \\dfrac{ (21+22) } 2 = 21.5 $\n",
    "3. Mean $ \\bar{x} = \\dfrac{\\sum{x_i}} n = \\dfrac{ 187 } 8 = 23.375 = 23.4 $\n",
    "\n",
    "_Note_: $ \\bar{x} $ _should have one additional decimal point from data_"
   ]
  },
  {
   "cell_type": "markdown",
   "metadata": {},
   "source": [
    "## Comparing the Mean and Median\n",
    "---"
   ]
  },
  {
   "cell_type": "markdown",
   "metadata": {},
   "source": [
    "### Symmetric Distributions (Mean = Median):\n",
    "---\n",
    "- Normal (Gaussian) Distribution\n",
    "- U Shaped Distribution (both sides of the spectrum)\n",
    "- Uniform Distribution"
   ]
  },
  {
   "cell_type": "markdown",
   "metadata": {},
   "source": [
    "### Skewed Distributions (When One of the Tails is Longer)\n",
    "---\n",
    "- __Right Skewed__ (outliers are on the right, not the left)\n",
    "    - Mean is pushed above the median<br><br>\n",
    "\n",
    "- __Left Skewed__ (The reverse of the above)"
   ]
  },
  {
   "cell_type": "code",
   "execution_count": null,
   "metadata": {},
   "outputs": [],
   "source": []
  }
 ],
 "metadata": {
  "kernelspec": {
   "display_name": "Python 3",
   "language": "python",
   "name": "python3"
  },
  "language_info": {
   "codemirror_mode": {
    "name": "ipython",
    "version": 3
   },
   "file_extension": ".py",
   "mimetype": "text/x-python",
   "name": "python",
   "nbconvert_exporter": "python",
   "pygments_lexer": "ipython3",
   "version": "3.6.8"
  }
 },
 "nbformat": 4,
 "nbformat_minor": 2
}
