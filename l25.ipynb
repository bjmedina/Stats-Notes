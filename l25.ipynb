{
 "cells": [
  {
   "cell_type": "markdown",
   "metadata": {},
   "source": [
    "# March 18, 2019\n",
    "\n",
    "## Chapter 7: Inferences Based On a Signle Sample, Estimation with Confidence Intervals\n",
    "\n",
    "In this chapter, we will estimate population parameters such as means and proportions based on a single sample selected from the population. \n",
    "\n",
    "- Two types of estimators:\n",
    "    1. __Point Estimator__ - consists of a single number calculated from the data that is the best guess for the parameter\n",
    "    2. __Interval Estimator__ - Consists of a range around the point estimator, within which the parameter is believed to fall. <br><br>\n",
    "    \n",
    "- __EX__: In a random survey of 2500, 68% of American Adults do not believe they will reveice Social Security at retirement. The survery has a marging of error of $\\pm$ 3%. \n",
    "    - _Point Estimator_ -- $68\\%$\n",
    "    - _Interval Estimator_ -- ($65\\%, 71\\%$)\n",
    "---\n",
    "$\\rightarrow$ Confidence Intervals indicate the probable accuracy of the estimate (\"We are $95\\%$ confident that...\")<br>\n",
    "$\\rightarrow$ The accuracy depends on charactersitics of the sampling distribution of the estimator<br>\n",
    "$\\rightarrow$ The smaller the standard error, the more accurate the estimator tends to be\n",
    "- _Note_: How can you ensure that you have a smaller and smaller error?\n",
    "    - Bigger and bigger sample size!!\n",
    "---\n",
    "- __Confidence Coefficient__: The probability that the confidence interval contains the parameter (Usually a number close to 1, such as .95 or .99). If the coefficient is $.95$, then you are $95\\%$ confident and $5\\%$ not confident.\n",
    "    - The \"leftover\" is called $\\alpha$ and is located in the 2 tails of the distribution<br><br>\n",
    "- __Critical Value__: Number on the border separating statistics that are likely to occur from those that are unlikely to occur.\n",
    "    - Comes from the confidence coefficient\n",
    "    - Notation: $z_{\\dfrac \\alpha 2}$ or $t_{\\dfrac \\alpha 2}$\n",
    "\n",
    "### General Form of a CI:\n",
    "---\n",
    "$\\rightarrow$ Point Estimate $\\pm$ Error, where Error = Critical Value * Standard Error\n",
    "\n",
    "- _Note:_\n",
    "    1. Either the interval captures the population parameter or it does not.\n",
    "    2. The confidence coefficient gives the probability of capturing the parameter.\n",
    "    3. (1 - Confidence Coefficient) gives the probability of not captruing the parameter (error probability $\\alpha$)\n",
    "    4. See figure 7.4 page 319\n",
    "    \n",
    "## Section 7.2 Confidence Interval for a Population Mean: Normal (z) Statistic\n",
    "---\n",
    "\n",
    "- Recall that if $n \\geq 30$, you can use the Central Limit Theorem.\n",
    "- $ \\bar{x} \\pm (z_{\\dfrac \\alpha 2} * \\dfrac \\sigma {\\sqrt{n}})$\n",
    "\n",
    "- Recall that if our C.C is .9, then we have .1 left. \n",
    "    - Also recall that the normal curve is SYMMETRIC, so .9 can be divided into two sections of .45.\n",
    "\n",
    "| C.C  | $\\alpha$| $z_{\\dfrac \\alpha 2}$   |\n",
    "|------|------|------|\n",
    "|   .9 | .1   |  1.645 | \n",
    "| .95  | .05  |  1.96|\n",
    "| .99  | .01  | 2.575 |"
   ]
  },
  {
   "cell_type": "code",
   "execution_count": null,
   "metadata": {},
   "outputs": [],
   "source": []
  }
 ],
 "metadata": {
  "kernelspec": {
   "display_name": "Python 3",
   "language": "python",
   "name": "python3"
  },
  "language_info": {
   "codemirror_mode": {
    "name": "ipython",
    "version": 3
   },
   "file_extension": ".py",
   "mimetype": "text/x-python",
   "name": "python",
   "nbconvert_exporter": "python",
   "pygments_lexer": "ipython3",
   "version": "3.6.8"
  }
 },
 "nbformat": 4,
 "nbformat_minor": 2
}
