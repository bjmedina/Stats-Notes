{
 "cells": [
  {
   "cell_type": "markdown",
   "metadata": {},
   "source": [
    "# January 30th, 2019\n",
    "\n",
    "## Probability\n",
    "---\n",
    "Probability permits us to make the inferential jump from sample to population and then to give a measure of reliability for the inference\n",
    "\n",
    "In this chapter, we make the assumption that the population is known\n",
    "\n",
    "## Section 3.1 Events, Sample Spaces, and Probability\n",
    "---\n",
    "\n",
    "__Ex. Toss a fair die once and observe the up face__\n",
    "\n",
    "-An _experiment_ is the process of making an observation that cannot be predicted with certainty (the toss of a die, etc...)\n",
    "    \n",
    "    *You know the possible outcomes, but not the certainty\n",
    "    \n",
    "-A _sample point_ is the most basic outcome of an experiment\n",
    "    \n",
    "    *Every time you toss, you get a sample point\n",
    "\n",
    "\n",
    "---\n",
    "The _sample space_ is the collection of all its sample points (observing a 1,2,...6)\n",
    "\n",
    "Often, we use _Venn Diagrams_ to represent a sample space\n",
    "\n",
    "*** do sample thing here ***"
   ]
  },
  {
   "cell_type": "markdown",
   "metadata": {},
   "source": [
    "### Properties of Probabilities \n",
    "---\n",
    "Given that $P(a)$ is the probability that event A has occured,\n",
    "\n",
    "1. $0 \\leq \\ P(a) \\ \\leq \\ 1$\n",
    "2. The probabilities of all the sample points within a sample space must sum to 1\n",
    "3. If $P(a)\\ =\\ 1$, this means A always happens\n",
    "4. If $P(a)\\ =\\ 0$, this means A never happens \n",
    "\n",
    "\n",
    "__Ex. What is the probabiliy of:__\n",
    "\n",
    "__1. rolling a 5?__ $\\ \\ \\ \\ \\ \\ 1/6$\n",
    "\n",
    "__2. rolling an even number?__ $\\ \\ \\ \\ 1/2$\n",
    "\n",
    "__3. rolling a number less than 1?__ $\\ \\ \\ \\ \\ 0$\n",
    "\n",
    "\n",
    "_Note: When assigning probabilities, we use the law of large numbers -- pages 121 - 122_"
   ]
  },
  {
   "cell_type": "markdown",
   "metadata": {},
   "source": [
    "### Venn Diagram for Part 2\n",
    "---\n",
    "\n",
    "Let A = rolling an even number\n",
    "\n",
    "Let S = be all possible outcomes\n",
    "\n",
    "\n",
    "*** draw venn diagram ***\n",
    "\n",
    "### Steps for Calculating Event Probabilities\n",
    "---\n",
    "1. Define the experiment\n",
    "2. List sample points\n",
    "3. Assign Probabilities\n",
    "4. What is in the event? \n",
    "5. Sum the sample point probabilities to get the event probability\n"
   ]
  },
  {
   "cell_type": "markdown",
   "metadata": {},
   "source": [
    "## Example\n",
    "\n",
    "__Toss a fair coin 3 times__\n",
    "\n",
    "blah blah you throw heads first...\n",
    "blah blah you throw that tail lol...\n",
    "\n",
    "Outcomes are: $HHH, HHT, HTT, HTH, TTT, TTH, THH, THT$\n",
    "\n",
    "How many outcomes? \n",
    "$2 \\times 2 \\times 2 \\ = \\ 8$"
   ]
  },
  {
   "cell_type": "markdown",
   "metadata": {},
   "source": [
    "## Tree Diagrams are Cool, but Not Practical\n",
    "---\n",
    "How can you determine the number of sample points when they run into the thousands or millions?\n",
    "\n",
    "__We use Counting Rules__\n",
    "\n",
    "\n",
    "### Factorials\n",
    "$n!$ = \"n factorial\" = $n*(n-1)*(n-2)*...*3*2*1$\n",
    "\n",
    "_Note:_ $0!\\ = \\ 1$"
   ]
  },
  {
   "cell_type": "code",
   "execution_count": null,
   "metadata": {},
   "outputs": [],
   "source": []
  }
 ],
 "metadata": {
  "kernelspec": {
   "display_name": "Python 3",
   "language": "python",
   "name": "python3"
  },
  "language_info": {
   "codemirror_mode": {
    "name": "ipython",
    "version": 3
   },
   "file_extension": ".py",
   "mimetype": "text/x-python",
   "name": "python",
   "nbconvert_exporter": "python",
   "pygments_lexer": "ipython3",
   "version": "3.6.8"
  }
 },
 "nbformat": 4,
 "nbformat_minor": 2
}
