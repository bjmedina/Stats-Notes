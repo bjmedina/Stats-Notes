{
 "cells": [
  {
   "cell_type": "markdown",
   "metadata": {},
   "source": [
    "# January 16, 2018\n",
    "# Section 2.4 Numerical Measures of Variability\n",
    "Describe the deviation of data about the mean (or other typical value)\n",
    "\n",
    "__1. Range - difference between the largest and smallest observation__\n",
    "\n",
    "__2. Sample Variance__\n",
    "    \n",
    "$ s^2 = \\dfrac {\\sum { (x_i - \\bar{x})^2 }} {n-1} $\n",
    "\n",
    "__BUT DONT USE THIS (apparently its too hard) ^^^^^__\n",
    "\n",
    "_Use this:_ \n",
    "\n",
    "$ s^2 = \\dfrac { \\sum{x^2} - \\dfrac{(\\sum{x})^2} n } {n-1} $\n",
    "\n",
    "_Note: sample variance for this is lowercase sigma_\n",
    "\n",
    "$ \\sigma^2 = \\dfrac { \\sum{(x_i - \\mu) ^ 2} } n $\n",
    "\n",
    "__3. Standard Deviation - Positive square root of the variance__\n",
    "\n",
    "_Notation:_\n",
    "        \n",
    "$s^2 = $ sample variance\n",
    "\n",
    "$s = $ = sample standard deviation\n",
    "\n",
    "$\\sigma^2 = $ population variance\n",
    "\n",
    "$\\sigma = $ population standard deviation\n",
    "\n",
    "## Properties of Standard Deviation\n",
    "1. $s >= 0$\n",
    "2. $s = 0$ only if all observation are the same\n",
    "3. The greater the variation from the mean, the larger the value of $s$"
   ]
  },
  {
   "cell_type": "code",
   "execution_count": 5,
   "metadata": {},
   "outputs": [],
   "source": [
    "Ages = [ 22, 21, 39, 24, 20, 19, 19, 23 ]"
   ]
  },
  {
   "cell_type": "code",
   "execution_count": 6,
   "metadata": {},
   "outputs": [
    {
     "name": "stdout",
     "output_type": "stream",
     "text": [
      "20\n"
     ]
    }
   ],
   "source": [
    "#Range is the Max Observation minus the Min Observation\n",
    "\n",
    "Range = max(Ages) - min(Ages)\n",
    "print(Range)"
   ]
  },
  {
   "cell_type": "markdown",
   "metadata": {},
   "source": [
    "$ s^2 = \\dfrac { \\sum{x^2} - \\dfrac{(\\sum{x})^2} n } {n-1} $"
   ]
  },
  {
   "cell_type": "code",
   "execution_count": 7,
   "metadata": {},
   "outputs": [],
   "source": [
    "def variance(x):\n",
    "    a = 0\n",
    "    b = 0\n",
    "    \n",
    "    for i in x:\n",
    "        a = a + (i ** 2)\n",
    "        b = b + i\n",
    "    \n",
    "    n = len(x)\n",
    "    \n",
    "    return(a - (b**2)/n) / (n-1)"
   ]
  },
  {
   "cell_type": "code",
   "execution_count": 8,
   "metadata": {},
   "outputs": [],
   "source": [
    "def mean(x):\n",
    "    return sum(x) / len(x)"
   ]
  },
  {
   "cell_type": "code",
   "execution_count": 9,
   "metadata": {},
   "outputs": [],
   "source": [
    "def sd(x):\n",
    "    return (variance(x)) ** (0.5)"
   ]
  },
  {
   "cell_type": "code",
   "execution_count": 10,
   "metadata": {},
   "outputs": [],
   "source": [
    "def deviation(x, k):\n",
    "    m = mean(x)\n",
    "    s = sd(x)\n",
    "    interval = [m - k*s, m + k*s]\n",
    "    within = []\n",
    "    \n",
    "    for i in x:\n",
    "        if interval[0] <= i and interval[1] >= i:\n",
    "            within.append(i)\n",
    "            \n",
    "    return within"
   ]
  },
  {
   "cell_type": "code",
   "execution_count": 11,
   "metadata": {},
   "outputs": [
    {
     "name": "stdout",
     "output_type": "stream",
     "text": [
      "43.125\n"
     ]
    }
   ],
   "source": [
    "# Variance of age dataset\n",
    "Var = variance(Ages)\n",
    "print(Var)"
   ]
  },
  {
   "cell_type": "code",
   "execution_count": 12,
   "metadata": {},
   "outputs": [
    {
     "name": "stdout",
     "output_type": "stream",
     "text": [
      "6.566962768281849\n",
      "23.375\n"
     ]
    }
   ],
   "source": [
    "#Standard Deviation\n",
    "standard_dev = sd(Ages)\n",
    "\n",
    "print(standard_dev)\n",
    "print(mean(Ages))\n"
   ]
  },
  {
   "cell_type": "markdown",
   "metadata": {},
   "source": [
    "(BUT Data has no decimal places... we want one more)"
   ]
  },
  {
   "cell_type": "code",
   "execution_count": 13,
   "metadata": {},
   "outputs": [
    {
     "name": "stdout",
     "output_type": "stream",
     "text": [
      "6.6\n"
     ]
    }
   ],
   "source": [
    "standard_dev = 6.6\n",
    "print(standard_dev)"
   ]
  },
  {
   "cell_type": "markdown",
   "metadata": {},
   "source": [
    "## Section 2.5 Using the Mean and Standard Deviation to Describe Data"
   ]
  },
  {
   "cell_type": "markdown",
   "metadata": {},
   "source": [
    "How many observations fall within 1 standard deviation of the mean? \n",
    "\tWithin 2? Within K? \n",
    "\n",
    "_Notation:_ \n",
    "\n",
    "[$\\bar{x} - 1s, \\bar{x} + 1s$] this is one deviation\n",
    "\n",
    ". . .\n",
    "\n",
    "[$\\bar{x} - ks, \\bar{x} + ks$] this is kth deviation\n",
    "\n",
    "_definitely on your exam_"
   ]
  },
  {
   "cell_type": "markdown",
   "metadata": {},
   "source": [
    "### Two Rules:\n",
    "\n",
    " _Question: Is the data mound shaped(normal, bell, etc)?_\n",
    "    \n",
    "    No? Use Chebyschev's Rule\n",
    "    Yes? Use the Empirical Rule"
   ]
  },
  {
   "cell_type": "markdown",
   "metadata": {},
   "source": [
    "### Chebyschev's Rule\n",
    "\n",
    "The Proportion of any set of data lying within $K$ standard deviations \n",
    "of the mean is always at least $[ 1 - 1/K^2 ]$, where $K$ is any positive\n",
    "number greater than 1. \n",
    "\n",
    "For within 1 deviation, no useful information is provided.\n",
    "\n",
    "For within 2 deviation, there is AT LEAST 3/4ths of your data\n",
    "\t\t\t(there is AT LEAST 3/4ths of the measurements will\n",
    "\t\t\tfall within 2 dev. of the mean)\n",
    "\n",
    "\t\t\t*at most 1/4 outside of this deviation range*\n",
    "\n",
    "For within 3 deviation, there is '' 8/9ths '' \n",
    "\n",
    "\t\t\t*at most 1/9 outside of this deviation*\n",
    "\n",
    "...\n",
    "\n",
    "For within k deviation, there is '' $(1 - (1/K^2) )$th '' "
   ]
  },
  {
   "cell_type": "markdown",
   "metadata": {},
   "source": [
    "### Empirical Rule\n",
    "\n",
    "According to the Empirical Rule, if a distribution is unimodal and symmetric, approximately 68% of the observations will be within one standard deviation of the mean, approximately 95% of the observations will be within two standard deviations, and nearly all the observations will be within three standard deviations of the mean. \n",
    "\n",
    "Within 1 deviation == ~68% of data\n",
    "\n",
    "'' 2 deviations == 95% of data\n",
    "\n",
    "'' 3 ''\t\t== 99.7%"
   ]
  },
  {
   "cell_type": "code",
   "execution_count": null,
   "metadata": {},
   "outputs": [],
   "source": []
  }
 ],
 "metadata": {
  "kernelspec": {
   "display_name": "Python 3",
   "language": "python",
   "name": "python3"
  },
  "language_info": {
   "codemirror_mode": {
    "name": "ipython",
    "version": 3
   },
   "file_extension": ".py",
   "mimetype": "text/x-python",
   "name": "python",
   "nbconvert_exporter": "python",
   "pygments_lexer": "ipython3",
   "version": "3.6.6"
  }
 },
 "nbformat": 4,
 "nbformat_minor": 2
}
