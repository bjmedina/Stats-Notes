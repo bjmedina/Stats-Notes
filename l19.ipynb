{
 "cells": [
  {
   "cell_type": "markdown",
   "metadata": {},
   "source": [
    "# February 22, 2019\n",
    "\n",
    "## Section 5.3 Cont.\n",
    "\n",
    "- $f(x) = \\dfrac 1 {\\sigma \\sqrt{2\\pi}} e ^ { \\dfrac {-(x-\\mu)^2} {2\\sigma^2}}$\n",
    "- Symmetric about \\mu\n",
    "- Mound shape\n",
    "- Total area under curve is 1\n",
    "- $-\\infty < x < \\infty$\n",
    "- If you know $\\mu, \\sigma$, can find probabilities using the z table\n",
    "\n",
    "\n",
    "### To use the z score table...\n",
    "1. Change the distribution to standard normal (z) $ \\rightarrow N(0,1)$\n",
    "    - z score $= \\dfrac {x-\\mu} \\sigma$\n",
    "        - _Note_: Always 2 decimal points on z score\n",
    "        \n",
    "2. Sketch a curve and shade te region of interest\n",
    "3. Look up the corresponding z interval on the table\n",
    "\n",
    "- __EX__: $P(0\\leq Z \\leq 1.24)$.\n",
    "    - _Note_: if you see a $Z$, is is $N(0,1)$...\n",
    "    - Our table reads this. Find the area under the curve.\n",
    "    \n",
    "- __EX__: $P(Z<1.24)$\n",
    "    - This is a symmetric distribution...\n",
    "        - So half of it would be 0.5\n",
    "        - Find $P(0 \\leq Z \\leq1.24)$... Add half to it\n",
    "        \n"
   ]
  },
  {
   "cell_type": "code",
   "execution_count": null,
   "metadata": {},
   "outputs": [],
   "source": []
  }
 ],
 "metadata": {
  "kernelspec": {
   "display_name": "Python 3",
   "language": "python",
   "name": "python3"
  },
  "language_info": {
   "codemirror_mode": {
    "name": "ipython",
    "version": 3
   },
   "file_extension": ".py",
   "mimetype": "text/x-python",
   "name": "python",
   "nbconvert_exporter": "python",
   "pygments_lexer": "ipython3",
   "version": "3.6.8"
  }
 },
 "nbformat": 4,
 "nbformat_minor": 2
}
