{
 "cells": [
  {
   "cell_type": "markdown",
   "metadata": {},
   "source": [
    "# March 1, 2019\n",
    "\n",
    "Read sections 6.1-6.3\n",
    "\n",
    "## Chapter 6 Sampling Distributions\n",
    "---\n",
    "\n",
    "- The assumption that distributions and parameters are known is unrealistic\n",
    "\n",
    "- In statistics, we use sample data to estimate distributions and parameters\n",
    "\n",
    "### Section 6.1 Population Distribution\n",
    "---\n",
    "- Distribution from which we select our sample\n",
    "- Parameters are usually unknown\n",
    "- Usually make inferences about its parametes, such as $\\mu$ and $\\sigma$\n",
    "- $N$ represents population size <br><br>\n",
    "\n",
    "- __Sample Distribution__:\n",
    "    - Distribution of data we actually observe\n",
    "    - Describe the distribution by statics such as sample mean $\\bar{x}$\n",
    "    - The larger the $n$ (sample size), the closer the sample resembles the population\n",
    "    - A probability distribution of a sample statistic such as the sample mean when samples of size n are taken _repeatedly_\n",
    "        - Describe the variability of the statistic\n",
    "        - Generaed by repeating a sampling experiment a very large number of times\n",
    "        \n",
    "### Section 6.2 Properties Of Sampling Distributions\n",
    "\n",
    "- Point Estimator - a rule or formula that tells us how to use the sample data to calculate a single number that can be used as an estimate of the population parameter\n",
    "    - For example, $\\bar{x}$ is a point estimator of $\\mu$\n",
    "    \n",
    "- Error of Estimation - difference between the estimate and the true value of the parameter\n",
    "    - Unbiased - if the mean of the sampling distribution is equal to the parameter it is intended to estimate. Otherwise, biased.\n",
    "    - __EX__: Suppose we have 2 statistics, A and B, to estimate the same parameter, $\\Delta$\n",
    "        - A has $\\Delta$ in the middle, so that's unbiased, because mean is also in the middle\n",
    "        - B has $\\Delta$ skewed to ther left, but mean is in the middle. \n",
    "        - If A has a bigger peak than B, then A has a smaller variance than B, so we pick that one (assuming $\\Delta$ is in the middle)"
   ]
  },
  {
   "cell_type": "markdown",
   "metadata": {},
   "source": []
  },
  {
   "cell_type": "markdown",
   "metadata": {},
   "source": [
    "    "
   ]
  },
  {
   "cell_type": "code",
   "execution_count": null,
   "metadata": {},
   "outputs": [],
   "source": []
  }
 ],
 "metadata": {
  "kernelspec": {
   "display_name": "Python 3",
   "language": "python",
   "name": "python3"
  },
  "language_info": {
   "codemirror_mode": {
    "name": "ipython",
    "version": 3
   },
   "file_extension": ".py",
   "mimetype": "text/x-python",
   "name": "python",
   "nbconvert_exporter": "python",
   "pygments_lexer": "ipython3",
   "version": "3.6.8"
  }
 },
 "nbformat": 4,
 "nbformat_minor": 2
}
