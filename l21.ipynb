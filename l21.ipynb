{
 "cells": [
  {
   "cell_type": "markdown",
   "metadata": {},
   "source": [
    "## Example 2\n",
    "- Suppose that lifetimes of a certain brand television are normally distributed with $\\mu = 5.25$ and $\\sigma = .75$ year <br><br>\n",
    "    \n",
    "    - a. What is the probability that a randomly chosen television lasts at least 4 years?\n",
    "        - $P(x \\geq 4) = P(z \\geq \\dfrac {4 - 5.25} {.75}) = P(z \\geq -1.67)$\n",
    "        - $P(z \\geq -1.67) = .9525$<br><br>\n",
    "    - b. Find the warranty time for this manufacturer so that no more than 1% will have to be replaced? \n",
    "        - We are given the probability, we need to find the time.\n",
    "        - We are going to put the 1% on the left of the distribution\n",
    "        - $P(z \\leq z_0) = 0.01 \\rightarrow z_0 = -2.33$\n",
    "        - $x = z*\\sigma + \\mu = (-2.33)*(.75) + 5.25 = 3.5025$ years<br><br>\n",
    "        \n",
    "## Example 3\n",
    "- A soft drink machine that dispenses __ can be regulated to dispense an average of $\\mu$ ounces per cup. The amount dispensed is normally distributed with $\\sigma = .2$ ounces. Find the setting for $\\mu$ so that an 8 ouce cup will overflow only 4% of the time.<br><br>\n",
    "    - _Note_: Overflowing will be on the RIGHT of the nomral distribution... \n",
    "    - $x = 8$ ounces... $P(z \\leq z_0) = .5 - .04 = .46 \\rightarrow z_0 = 1.75$\n",
    "    - $x = z_0*\\sigma + \\mu \\rightarrow \\mu = x - z_0*\\sigma = 8 - (1.75)(.2) = 7.65$ ounces\n",
    "    \n",
    "## Section 5.4 Skip\n",
    "\n",
    "## Section 5.5 Skip (But if you want this information, email her)\n",
    "\n",
    "\n",
    "## Section 5.6 The Exponential Distribution\n",
    "\n",
    "- The \"Waiting time\" distribution\n",
    "<br><br>\n",
    "- __Examples of events that follow this distribution__:\n",
    "    - Time between emergency arrivals at a hospital\n",
    "    - Infestation of insects\n",
    "    - Growth and Decay<br><br>\n",
    "    \n",
    "- __Probability Distribution__:\n",
    "    - $f(x) = \\dfrac 1 {\\theta} e^{-\\dfrac {x} {\\theta}}$, for $(x>0)$\n",
    "    - $\\mu = \\theta$\n",
    "    - $\\sigma = \\theta$\n",
    "    \n",
    "\n",
    "### To Calculate Probabilites\n",
    "- Find area A to the right of a number a for an exponential distribution\n",
    "- Area A = $P(x \\geq a) = e ^ {- \\dfrac a \\theta}$\n",
    "    - _Note_: Our table reads EXACTLY this... \n",
    "        - YES, It reads $P(x \\geq a)$... that's the area to the right of $a$\n",
    "\n",
    "## Example 1\n",
    "\n",
    "- Suppose x has an exponential distribution with $\\theta = 2.5$. Find:\n",
    "    - a. $P(x>5)$ = ?\n",
    "        - On the calculator, $A = e ^ { - \\dfrac 5 {2.5} } = e ^ {-2} = 0.135335$<br><br>\n",
    "    - b. $P(x\\leq4)$ = ?\n",
    "        - Our formula gives us $P(x \\geq a)$\n",
    "        - $P(x \\leq a) = 1 - P(x \\geq a) = 1 - .201897 = .7918103$<br><br>\n",
    "    - c. $P(x \\geq 3) = $ ? $=$ you know how to calculate this $ = .301194$\n",
    "        \n",
    "        \n",
    "## Example 2\n",
    "- The time between emergency room arrivals at a local hospital follow an exp. distribution with a mean of 5 minutes.\n",
    "    - a. Probability that x is greater than 8 = $P(x > 8) = 0.2018965179946554$ \n",
    "    - b. Probability that x is less than 2 = $P(x < 2) = 1 - P(x>=2) = 0.3296799539643607$\n",
    "    - c. Probability that x is in between 3 and 6 = $P(3 < x < 6) = 1 - P(x>=6) + (1 - P(x>=3)) = 0.2476174241818243$"
   ]
  },
  {
   "cell_type": "code",
   "execution_count": 3,
   "metadata": {},
   "outputs": [
    {
     "data": {
      "image/png": "[encoded data removed]",
      "text/plain": [
       "<Figure size 432x288 with 1 Axes>"
      ]
     },
     "metadata": {},
     "output_type": "display_data"
    }
   ],
   "source": [
    "import numpy as np\n",
    "import matplotlib.pyplot as plt\n",
    "lambd = 0.5\n",
    "x = np.arange(0, 15, 0.1)\n",
    "y = (1/lambd) * np.exp(-lambd * x)\n",
    "plt.title(\"Exponential Distribution Example\")\n",
    "plt.plot(x, y)\n",
    "plt.fill_between(x,y)\n",
    "plt.xlabel(\"X variable\")\n",
    "plt.ylabel(\"Point Probability\")\n",
    "plt.show()\n",
    "\n",
    "\n",
    "def expA(theta, x):\n",
    "    return np.e ** (-x / theta)\n",
    "\n",
    "def exp(theta, x):\n",
    "    return (1 / theta) * expA(theta, x)"
   ]
  },
  {
   "cell_type": "code",
   "execution_count": null,
   "metadata": {},
   "outputs": [],
   "source": []
  }
 ],
 "metadata": {
  "kernelspec": {
   "display_name": "Python 3",
   "language": "python",
   "name": "python3"
  },
  "language_info": {
   "codemirror_mode": {
    "name": "ipython",
    "version": 3
   },
   "file_extension": ".py",
   "mimetype": "text/x-python",
   "name": "python",
   "nbconvert_exporter": "python",
   "pygments_lexer": "ipython3",
   "version": "3.6.5"
  }
 },
 "nbformat": 4,
 "nbformat_minor": 2
}
