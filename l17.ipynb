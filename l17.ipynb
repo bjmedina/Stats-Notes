{
 "cells": [
  {
   "cell_type": "markdown",
   "metadata": {},
   "source": [
    "# February 15, 2019\n",
    "\n",
    "## To Find Poisson Probabilities\n",
    "---\n",
    "1. Point Probability Formula\n",
    "2. Poisson Tables (pink sheet)\n",
    "\n",
    "-__Ex.__: A certain stretch of I-4 has an average of 3 accidents per day. What is the probability of \n",
    "\n",
    "1. Exactly 1 accident today?\n",
    "2. At least 3 accidents today?"
   ]
  },
  {
   "cell_type": "code",
   "execution_count": 1,
   "metadata": {},
   "outputs": [],
   "source": [
    "from math import *\n",
    "\n",
    "def fact(n):\n",
    "    if n == 0 or n == 1:\n",
    "        return 1\n",
    "    f = 1\n",
    "    for i in range(2, n+1):\n",
    "        f = f * i\n",
    "    return f\n",
    "\n",
    "def poisson(x, l):\n",
    "    return (l ** x) * (e ** (-l)) / (fact(x))\n",
    "\n",
    "def poissons(xLim, l):\n",
    "    total_prob = 0\n",
    "    \n",
    "    for i in range(0, xLim+1):\n",
    "        total_prob = total_prob + poisson(i, l)\n",
    "        \n",
    "    return total_prob"
   ]
  },
  {
   "cell_type": "markdown",
   "metadata": {},
   "source": [
    "## Section 4.6 Skip\n",
    "\n",
    "## Exam 2, February 18th\n",
    "\n",
    "\n",
    "## Topics covered\n",
    "---\n",
    "- Experiments, Sample points, assigning probs, events\n",
    "- Counting rules\n",
    "- Unions/Intersections\n",
    "- Complements\n",
    "- Additive/Mutual Exclusive (unions)\n",
    "- Conditional Probability\n",
    "- Multiplicative/Independence (intersections)\n",
    "\n",
    "- Discrete:\n",
    "    - Discrete Probability Distributions\n",
    "    - Binomial\n",
    "    - Poisson"
   ]
  },
  {
   "cell_type": "code",
   "execution_count": null,
   "metadata": {},
   "outputs": [],
   "source": []
  }
 ],
 "metadata": {
  "kernelspec": {
   "display_name": "Python 3",
   "language": "python",
   "name": "python3"
  },
  "language_info": {
   "codemirror_mode": {
    "name": "ipython",
    "version": 3
   },
   "file_extension": ".py",
   "mimetype": "text/x-python",
   "name": "python",
   "nbconvert_exporter": "python",
   "pygments_lexer": "ipython3",
   "version": "3.6.8"
  }
 },
 "nbformat": 4,
 "nbformat_minor": 2
}
