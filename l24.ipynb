{
 "cells": [
  {
   "cell_type": "markdown",
   "metadata": {},
   "source": [
    "# In class Examples\n",
    "---\n",
    "\n",
    "- __EX__: $-z_0 = .04$\n",
    "    - $.5 - .z_0 = .46$\n",
    "    - $z = -1.75$\n",
    "    - $x = (-1.75)*(4500) + 38000$\n",
    "    - $x = 30125$\n",
    "    \n",
    "    \n",
    "- __EX__: The time spent with all of her patients by a physician has a mean of 14 minutes and standard deviation of 3 minutes\n",
    "    1. We look at a sample of 36 patients. Find the probability she spends an average time of at most 15 minutes with patients. \n",
    "        - $\\bar X$ is the average time\n",
    "        - $\\mu_{\\bar{X}} = E(\\bar{X}) = \\mu = 15$\n",
    "        - $P( \\bar X \\leq 15 ) = P ( z \\leq \\dfrac {15 - 14} {\\dfrac 3 {\\sqrt {36}}} ) = P(Z \\leq 2 ) = .9772$\n",
    "        \n",
    "    2. $P(\\bar X \\geq 12) = P(z \\geq \\dfrac {12 - 14} { \\dfrac 3 {\\sqrt {36}}}) \\approx 1 $\n",
    "       "
   ]
  },
  {
   "cell_type": "code",
   "execution_count": null,
   "metadata": {},
   "outputs": [],
   "source": []
  }
 ],
 "metadata": {
  "kernelspec": {
   "display_name": "Python 3",
   "language": "python",
   "name": "python3"
  },
  "language_info": {
   "codemirror_mode": {
    "name": "ipython",
    "version": 3
   },
   "file_extension": ".py",
   "mimetype": "text/x-python",
   "name": "python",
   "nbconvert_exporter": "python",
   "pygments_lexer": "ipython3",
   "version": "3.6.8"
  }
 },
 "nbformat": 4,
 "nbformat_minor": 2
}
