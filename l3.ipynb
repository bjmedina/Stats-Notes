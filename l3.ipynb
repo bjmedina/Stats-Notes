{
 "cells": [
  {
   "cell_type": "markdown",
   "metadata": {},
   "source": [
    "# January 11, 2019\n",
    "## Chapter 2: Method for Describing Sets of Data\n",
    "---"
   ]
  },
  {
   "cell_type": "markdown",
   "metadata": {},
   "source": [
    "__Your data can be:__ \n",
    "\n",
    "### 1. Graphical   \n",
    "---\n",
    "A. __Qualitative__  - bar chart, pie chart   \n",
    "B. __Quantitative__ - Stem and leaf, histogram, scatterplots\n",
    "   \n",
    "### 2. Numerical\n",
    "---\n",
    "A. __Meausures of central tendency__        \n",
    "B. __Measures of variation__\n",
    "    \n",
    "> __NOTE:__ All of this is used to describe your data \\[ Where is the center of your data? what kind of data do you have? is your data skewed? etc \\]"
   ]
  },
  {
   "cell_type": "markdown",
   "metadata": {},
   "source": [
    "## 2.1 Describing Qualitative Data\n",
    "---\n",
    "\n",
    "### Qualitative Data can be described in three ways:\n",
    "    \n",
    "1. __Class__ - One of the categories into which data can be classified\n",
    "2. __Class Frequency__ - number of observations in a particular class\n",
    "3. __Class Relative Frequency__ - Class freq. divided by the total number of observations in the data set\n"
   ]
  },
  {
   "cell_type": "markdown",
   "metadata": {},
   "source": [
    "## 2.2 Graphical Methods for Describing Quantitative Data\n",
    "---\n",
    "\n",
    "### Stem-and-Leaf Displays\n",
    "---\n",
    "\n",
    "Represents each observation by its leading digit (the stem) and by its final digit (the leaf)\n",
    "\n",
    "__Ex:__\n",
    "\n",
    "\tSay you have the number 41...\n",
    "\tThen you'll have \n",
    "\t\t\n",
    "\t\t4 | 1\n",
    "\t stem   leaf\n",
    "     \n",
    "### Histograms\n",
    "---\n",
    "A graph of a frequency (or relative frequency) distribution for a quantitative variable"
   ]
  },
  {
   "cell_type": "code",
   "execution_count": null,
   "metadata": {},
   "outputs": [],
   "source": []
  }
 ],
 "metadata": {
  "kernelspec": {
   "display_name": "Python 3",
   "language": "python",
   "name": "python3"
  },
  "language_info": {
   "codemirror_mode": {
    "name": "ipython",
    "version": 3
   },
   "file_extension": ".py",
   "mimetype": "text/x-python",
   "name": "python",
   "nbconvert_exporter": "python",
   "pygments_lexer": "ipython3",
   "version": "3.6.8"
  }
 },
 "nbformat": 4,
 "nbformat_minor": 2
}
