{
 "cells": [
  {
   "cell_type": "markdown",
   "metadata": {},
   "source": [
    "# January 25, 2019\n",
    "\n",
    "## Section 2.8 Cont. \n",
    "\n",
    "### Simple Linear Regression (Line of Best Fit)\n",
    "\n",
    "Once we verify the correlation is significant, we will use EXCEL output to find the line of best fit and use it for prediction. \n",
    "\n",
    "How does y change as defined by the values of x?\n",
    "\n",
    "Linear model relating y and x:\n",
    "\n",
    "$ \\hat{y} \\ =\\ mx \\ +\\ b$\n",
    "\n",
    "Where $ \\hat{y}\\ =$ the predicted y value for a given x value\n",
    "\n",
    "$m\\ =$ slope\n",
    "\n",
    "$b\\ =$ y intercept\n",
    "\n",
    "_Note_: Intercept is b.... X Variable 1 is m\n",
    "        Slope tells you how much the thing is increasing/decreasing\n",
    "\n",
    "\n",
    "_Note_: Extrapolation is dangerous (DO NOT MAKE PREDICTIONS OUTSIDE THE RANGE OF X)\n",
    "\n",
    "\n",
    "\n",
    "# EXAM 1 \n",
    "\n",
    "Exam 1 is Monday, January 28th\n",
    "\n",
    "CH1, CH2, Correlation and Regression (in class)\n",
    "\n",
    "26 Multiple Choice at 4 points each\n",
    "\n",
    "PRINT NAME AND SIGN TOP OF EXAM\n",
    "\n",
    "Bring:\n",
    "    1. UCF ID\n",
    "    2. Pencil only\n",
    "    3. Calculator raspberry scantron\n",
    "    4. Pink probability tables,\n",
    "    5. Formula sheet\n",
    "    \n",
    "No more than 5 minutes late\n",
    "\n",
    "\n",
    "\n"
   ]
  },
  {
   "cell_type": "code",
   "execution_count": null,
   "metadata": {},
   "outputs": [],
   "source": []
  }
 ],
 "metadata": {
  "kernelspec": {
   "display_name": "Python 3",
   "language": "python",
   "name": "python3"
  },
  "language_info": {
   "codemirror_mode": {
    "name": "ipython",
    "version": 3
   },
   "file_extension": ".py",
   "mimetype": "text/x-python",
   "name": "python",
   "nbconvert_exporter": "python",
   "pygments_lexer": "ipython3",
   "version": "3.6.8"
  }
 },
 "nbformat": 4,
 "nbformat_minor": 2
}
