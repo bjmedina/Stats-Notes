{
 "cells": [
  {
   "cell_type": "markdown",
   "metadata": {},
   "source": [
    "# January 18, 2019\n",
    "\n",
    "# Section 2.5 Continued\n",
    "\n",
    "## Example: \n",
    "\n",
    "Let $x = $ the dataset with mean 1,500 and standard deviation 300. \n"
   ]
  },
  {
   "cell_type": "code",
   "execution_count": 2,
   "metadata": {},
   "outputs": [
    {
     "data": {
      "image/png": "[encoded data removed]",
      "text/plain": [
       "<Figure size 432x288 with 1 Axes>"
      ]
     },
     "metadata": {
      "needs_background": "light"
     },
     "output_type": "display_data"
    }
   ],
   "source": [
    "import matplotlib.pyplot as plt\n",
    "import numpy as np\n",
    "import math\n",
    "\n",
    "mu = 1500\n",
    "sigma = 300\n",
    "k = 3\n",
    "# Plot probability distribution curve upto k standard deviations\n",
    "x = np.linspace(mu - k*sigma, mu + k*sigma, 1000)\n",
    "plt.plot(x, 1/(sigma * np.sqrt(2 * np.pi)) * np.exp( - (x - mu)**2 / (2 * sigma**2) ))\n",
    "plt.xlabel(\"Money (in $)\")\n",
    "plt.ylabel(\"Probability \")\n",
    "plt.show()"
   ]
  },
  {
   "cell_type": "markdown",
   "metadata": {},
   "source": [
    "What can be said about the proportion of observations that are:\n",
    "\n",
    "__a) between 900 and 2100?__\n",
    "\n",
    "    You have to use Chebyschev's Rule because you can't assume that \n",
    "    data is mound shaped\n",
    "\n",
    "    So, at least least 3/4ths\n",
    "    \n",
    "__b) between 1200 and 1800?__\n",
    "\n",
    "\tNo useful information\n",
    "\n",
    "__c) more than 2400?__\n",
    "\n",
    "\tat most 1/9th\n",
    "        \n",
    "__d) more than 2100?__\n",
    "\n",
    "\tat most 1/4\n",
    "        \n",
    "__e) how would your answers change if you know the data was mound shaped?__\n",
    "\n",
    "        Use empirical rule\n",
    "\t\tEVERY answer will change\n",
    "\n",
    "\t\t\tremember: Empirical Rule\n",
    "                    =================\n",
    "\n",
    "                    within 1 dev == ~68% of data\n",
    "                           2 dev ==  95%\n",
    "                           3 dev ==  99.7%\n",
    "                           \n",
    "                           \t\t\t\t\n",
    "\t\ta) between 900 and 2100\n",
    "\n",
    "\t\t\t95%\n",
    "\n",
    "\t\tb) between 1200 and 1800?\n",
    "\n",
    "\t\t\t68%\n",
    "\n",
    "\t\tc) more than 2400?\n",
    "\n",
    "\t\t\t0.15%\n",
    "\n",
    "\t\td) more than 2100?\n",
    "\n",
    "\t\t\t2.35 % + .15 % = 2.5 %\n"
   ]
  },
  {
   "cell_type": "markdown",
   "metadata": {},
   "source": [
    "## Section 2.6 Numerical Measures of Relative Standing"
   ]
  },
  {
   "cell_type": "markdown",
   "metadata": {},
   "source": [
    "__1. pth percentile (percentile ranking, percentile score)__\n",
    "\n",
    "    a number such that p% of observations fall below it and (100 - p)% fall above it\n",
    "  \n",
    "    Mound shaped - uniform, the median is also alwsys there in 50th percentile\n",
    "__2. Z - score__\n",
    "\n",
    "\t*** will use extensively in the remainder of this course ***\n",
    "    \n",
    "Sample Z - Score:\n",
    "\n",
    "$ z = \\dfrac{ x - \\bar{x} } s $\n",
    "\n",
    "where $s$ is the sample mean\n",
    "\n",
    "\n",
    "\n",
    "\n",
    "Population Z - Score:\n",
    "\n",
    "$ z = \\dfrac{ x - \\mu } \\sigma $\n",
    "    \n",
    "    \n",
    "_Note: ALWAYS ROUND TO TWO DECIMAL PLACES_\n",
    "\n",
    "A z-score tells how many standard deviations the observation falls from the mean\n",
    "\n",
    "    Negative - below the mean\n",
    "    Positive - above the mean\n",
    "\tZero     - at the mean\n",
    "    \n",
    "    \n",
    "## SUPER IMPORTANT NOTE:\n",
    "\n",
    "\t\tNOTE: OBSERVATIONS WITH A RELATIVE STANDING GREATER THAN \n",
    "\t\t|3| ARE CONSIDERED UNUSUAL (outliers)\n",
    "\n",
    "\t\t>|2| is a possible outlier"
   ]
  },
  {
   "cell_type": "code",
   "execution_count": 11,
   "metadata": {},
   "outputs": [],
   "source": [
    "def variance(x):\n",
    "    a = 0\n",
    "    b = 0\n",
    "    \n",
    "    for i in x:\n",
    "        a = a + (i ** 2)\n",
    "        b = b + i\n",
    "    \n",
    "    n = len(x)\n",
    "    \n",
    "    return(a - (b**2)/n) / (n-1)\n",
    "\n",
    "def mean(x):\n",
    "    return sum(x) / len(x)\n",
    "\n",
    "def sd(x):\n",
    "    return (variance(x)) ** (0.5)\n",
    "\n",
    "def z_score(x):\n",
    "    return [ (z - mean(z)) / sd(z) for z in x]\n",
    "\n",
    "def z_score(x, mu, sigma):\n",
    "    return (x - mu) / sigma"
   ]
  },
  {
   "cell_type": "markdown",
   "metadata": {},
   "source": [
    "## Example:\n",
    "\n",
    "\n",
    "\tSAT: Mean 1000, S.D. of 2000\n",
    "\n",
    "\tACT: Mean 21, S.D. of 6\n",
    "\n",
    "\tWhich is a better score? 1270 on SAT or 28 on ACT?\n",
    "\t\tTo calc this, you need the z scores"
   ]
  },
  {
   "cell_type": "code",
   "execution_count": 8,
   "metadata": {},
   "outputs": [],
   "source": [
    "# Information\n",
    "SAT_mu = 1000\n",
    "SAT_sd = 200\n",
    "SAT    = 1270\n",
    "\n",
    "ACT_mu = 21\n",
    "ACT_sd = 6\n",
    "ACT    = 28"
   ]
  },
  {
   "cell_type": "code",
   "execution_count": 10,
   "metadata": {},
   "outputs": [
    {
     "name": "stdout",
     "output_type": "stream",
     "text": [
      "1.35 1.1666666666666667\n",
      "1270 on the SAT is a better score than 28 on the ACT\n"
     ]
    }
   ],
   "source": [
    "SAT_Z = (SAT - SAT_mu) / SAT_sd\n",
    "ACT_Z = (ACT - ACT_mu) / ACT_sd\n",
    "print(SAT_Z, ACT_Z)\n",
    "print(\"1270 on the SAT is a better score than 28 on the ACT\")"
   ]
  },
  {
   "cell_type": "code",
   "execution_count": null,
   "metadata": {},
   "outputs": [],
   "source": []
  }
 ],
 "metadata": {
  "kernelspec": {
   "display_name": "Python 3",
   "language": "python",
   "name": "python3"
  },
  "language_info": {
   "codemirror_mode": {
    "name": "ipython",
    "version": 3
   },
   "file_extension": ".py",
   "mimetype": "text/x-python",
   "name": "python",
   "nbconvert_exporter": "python",
   "pygments_lexer": "ipython3",
   "version": "3.6.6"
  }
 },
 "nbformat": 4,
 "nbformat_minor": 2
}
