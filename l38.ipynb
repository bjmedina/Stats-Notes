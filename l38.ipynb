{
 "cells": [
  {
   "cell_type": "markdown",
   "metadata": {},
   "source": [
    "# April 19, 2019\n",
    "\n",
    "## Final Exam Information\n",
    "---\n",
    "\n",
    "- 4 formula sheets to new one for CH9\n",
    "- Pink Table\n",
    "- 52 questions, 3 points each (156 points)\n",
    "- 10 AM - 12:40 PM\n",
    "- You can be 20 minutes late.\n",
    "\n",
    "\n",
    "## Formulas (2 Samples)\n",
    "---\n",
    "\n",
    "- <font color='red'>__Mean?__</font>:<br><br>\n",
    "    - <font color='blue'>_Independent Samples?_</font><br><br>\n",
    "        - __Large (Both $n \\geq 30$)__?<br><br>\n",
    "            - You need to use the $Z$ table<br><br>\n",
    "            - __CI?__\n",
    "                - $(\\bar x_1 - \\bar x_2) \\pm z_{\\alpha\\  /\\ 2} * \\sqrt { \\dfrac {{S_1}^2} {n_1} +  \\dfrac {{S_2}^2} {n_2}}$\n",
    "                - __Assumptions__: Independent, random samples<br><br>\n",
    "            - __Test?__\n",
    "                - $z = \\dfrac {(\\bar x_1 - \\bar x_2) - D_0} {\\sqrt { \\dfrac {{S_1}^2} {n_1} +  \\dfrac {{S_2}^2} {n_2}}}$<br><br>\n",
    "        - __Small (One or both $n < 30$)__?<br><br>\n",
    "            - Always compute ${s_p}^2 = \\dfrac { (n_1 - 1){s_1}^2 + (n_2 - 1){s_2}^2 } { n_1 + n_2 - 2 }$\n",
    "            - Use t table\n",
    "            - __CI?__:\n",
    "                - $(\\bar{x_1} - \\bar{x_2}) \\pm t*\\sqrt{ {s_p}^2 (\\dfrac {{s_1}^2} {n_1} + \\dfrac {{s_2}^2} {n_2} )}$\n",
    "                - __Assumptions__: 1) Random, independent, 2) both populations have to be approximaltely normal, 3) population variances equal<br><br>\n",
    "            - __Test?__: \n",
    "                - $t = \\dfrac {(\\bar{x_1} - \\bar{x_2}) - D_0} { \\sqrt{ {s_p}^2 (\\dfrac 1 {n_1} + \\dfrac 1 {n_2} )}}$<br><br>\n",
    "             \n",
    "    - <font color='blue'>_Dependent Samples?_</font> <br><br>\n",
    "        - You need to compute the following:\n",
    "            - $\\bar{x}_D = \\dfrac {\\sum x} n $\n",
    "            - $ {s_D}^2 = \\dfrac{ \\sum {x^2} - \\dfrac{ (\\sum x)^2 } n } {n-1} $\n",
    "            - $n_D = $ pairs of samples<br><br>\n",
    "            \n",
    "        - __CI?__: \n",
    "            - $\\bar {x}_D \\pm t*{\\dfrac {s_D} {\\sqrt {n_D}}}$\n",
    "            - t: $df = n_d - 1$\n",
    "            - __Assumptions__: \n",
    "                - Find out next time on <font color='yellow'>_Dragon_  <font color='blue'>_Ball_ <font color='red'>_Z_ <br><br>\n",
    "        - __Test?__: \n",
    "            - $t = \\dfrac { \\bar{x}_D - D_0} { S_d \\ / \\sqrt{n_D}}$<br><br>\n",
    "- <font color='red'>__Proportions?__</font>:<br><br>\n",
    "\n",
    "    - Check $n_1$ and $n_2$ large\n",
    "        - You can use $Z$\n",
    "    - __CI__?\n",
    "        - $(\\hat p_1 - \\hat p_2) \\pm z * \\sqrt { \\dfrac{\\hat p_1 \\hat q_1} {n_1} + \\dfrac{\\hat p_2 \\hat q_2} {n_2} }$\n",
    "        - __Assumptions__: \n",
    "            - Independent and random.\n",
    "    - __Test?__\n",
    "        - Need $\\hat p = \\dfrac {x_1 + x_2} {n_1 + n_2}$\n",
    "        - $z = \\dfrac { p_1 - p_2 } {\\sqrt { \\hat p \\hat q( \\dfrac 1 {n_1} + \\dfrac 1 {n_2})}}$"
   ]
  },
  {
   "cell_type": "code",
   "execution_count": null,
   "metadata": {},
   "outputs": [],
   "source": []
  }
 ],
 "metadata": {
  "kernelspec": {
   "display_name": "Python 3",
   "language": "python",
   "name": "python3"
  },
  "language_info": {
   "codemirror_mode": {
    "name": "ipython",
    "version": 3
   },
   "file_extension": ".py",
   "mimetype": "text/x-python",
   "name": "python",
   "nbconvert_exporter": "python",
   "pygments_lexer": "ipython3",
   "version": "3.6.8"
  }
 },
 "nbformat": 4,
 "nbformat_minor": 2
}
