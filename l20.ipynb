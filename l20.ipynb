{
 "cells": [
  {
   "cell_type": "markdown",
   "metadata": {},
   "source": [
    "## Examples on reading the table\n",
    "\n",
    "- _Note_: Think about how you would shade the grade.<br> <br>\n",
    "\n",
    "- $P(-1 < z < 1) = 0.3413 * 2$\n",
    "\n",
    "- $P(Z < z_o) = .9$... $z_o = 1.28$\n",
    "\n",
    "- $P( z > 1.50 ) = .0668$\n",
    "\n",
    "- $P(-2 < z < 2) = .9544$\n",
    "\n",
    "- $P(-3 < z < 3) = 0.9974$\n",
    "\n",
    "- $P(-c < z < c) = .98$...\n",
    "    - $P(z < c) = \\dfrac {.98} 2 = .49$\n",
    "    \n",
    "    \n",
    "- __EX__: Time to run a marathon is distributed $N(4.9hours,\\ 1.6hours)$\n",
    "    1. What percent of runners finished in less than 3 hours?\n",
    "        - $P(x < 3) = P( z < -1.1875) =  P(z < -1.19) = 0.5 - .3830 = .117 = 11.7\\%$\n",
    "           - _Note_: We ALWAYS convert to z... (Z is $N(0, 1)$)<br><br>\n",
    "        \n",
    "    2. What percent of runners finish between 4 and 6 hours?\n",
    "        - $P(4 < x < 6) = P(-0.5625 < z < 0.6875) = P(-0.56 < z < 0.69) =  .2123 + .2549 = 0.4672 = 46.72\\%$<br><br>\n",
    "        \n",
    "    3. What is the most time the fasters 10 percent of runners took to run the marathon?\n",
    "        - $P(z < z_0) = .1$, what's $z_0$?\n",
    "        - We know $(P(z > z_0) = .4$, so $z_0 = -1.28$\n",
    "        - So $X = z*\\sigma + \\mu = (-1.28*1.6) + 4.9 = 2.852$ hours<br><br>\n",
    "        \n",
    "    4. What time is associated with the 50th percentile? \n",
    "        - 4.9 hours...<br><br>\n",
    "            - _Note_: the 50th percentile IS the mean...\n",
    "        \n",
    "    5. 90th percentile?\n",
    "        - $P(z < z_0) = .9$ ... $z_0 = 1.28$... $x = 6.498$<br><br>\n",
    "        \n",
    "    6. What is the interval for the middle 70 percent of runners? \n",
    "        - 35% from the mean\n",
    "        - $P(z < z_0) = .35$... $z_0 = 1.04$\n",
    "        - $x = -1.04*(1.6) + 4.9 = 3.236 $ hours and $x = 1.04*1.6 + 4.9 = 6.564$ hours\n",
    "        - Interval is from 3.236 hours to 6.564 hours"
   ]
  },
  {
   "cell_type": "code",
   "execution_count": null,
   "metadata": {},
   "outputs": [],
   "source": []
  }
 ],
 "metadata": {
  "kernelspec": {
   "display_name": "Python 3",
   "language": "python",
   "name": "python3"
  },
  "language_info": {
   "codemirror_mode": {
    "name": "ipython",
    "version": 3
   },
   "file_extension": ".py",
   "mimetype": "text/x-python",
   "name": "python",
   "nbconvert_exporter": "python",
   "pygments_lexer": "ipython3",
   "version": "3.6.5"
  }
 },
 "nbformat": 4,
 "nbformat_minor": 2
}
