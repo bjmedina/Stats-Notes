{
 "cells": [
  {
   "cell_type": "markdown",
   "metadata": {},
   "source": [
    "# February 8, 2019\n",
    "\n",
    "# Ch4 Discrete Random Variables\n",
    "--- \n",
    "\n",
    "- __Random Variable__ - a rule that assigns one and only one numerical value to each sample point of an experiment\n",
    "\n",
    "    - __EXAMPLE__: Let X = number of women among ten newly hired employees\n",
    "    \n",
    "\n",
    "- The variable X = $\\{0,1,2,3...,10\\}$. \n",
    "\n",
    "\n",
    "\n",
    "## Section 4.1 Two Types of Random Variables\n",
    "---\n",
    "\n",
    "- _Discrete - Countable_\n",
    "\n",
    "    - __Ex.__ Number of siblings, number of women hired.\n",
    "    \n",
    "\n",
    "- _Continuous - Can assume any number in an interval_\n",
    "\n",
    "    - __Ex.__ height, weight, age, time.\n",
    "    \n",
    "    \n",
    "- Helps to determine which statistical methods are most appropriate for a dataset \n",
    "    \n",
    "\n",
    "## Section 4.2 Probability Distributions for Discrete Random Variables\n",
    "---\n",
    "\n",
    "- _Probability Distribution_ - lists all values of the variable along with the probability of each value occuring. \n",
    "    - Notation: $p(x)$\n",
    "    - Requirements: \n",
    "         1. $0 \\leq p(x) \\leq 1 \\ , \\forall$ values of $x$\n",
    "         2. $\\Sigma{p(x)} = 1$\n",
    "\n",
    "\n",
    "- __Ex.__ Sickle Cell Anemia...\n",
    "    - Let $X$ = number in 3 that got sickle cell anemia\n",
    "    - If you graph this, this should just be bars.\n",
    "\n",
    "| x   | p(x)  |\n",
    "| --- | ---   |\n",
    "| 0   | 27/64 |\n",
    "| 1   | 27/64 |\n",
    "| 2   | 9/64  |\n",
    "| 3   | 1/64  |\n",
    "\n",
    "\n",
    "## Section 4.3 Expected Values of Discrete Random Variables\n",
    "--- \n",
    "\n",
    "- __Mean (*Expected value*):__\n",
    "    - $\\mu = E(x) = \\Sigma{(xp(x))}$\n",
    "    \n",
    "- __Variance:__\n",
    "    - $\\sigma^2 = \\Sigma{((x-\\mu)^2p(x))}$\n",
    "    - or $\\sigma^2 = [\\Sigma {(x^2p(x))}] - \\mu^2$ \n"
   ]
  },
  {
   "cell_type": "code",
   "execution_count": 1,
   "metadata": {},
   "outputs": [],
   "source": [
    "def E(x, p):\n",
    "    expected = 0\n",
    "    for i in range(0, len(x)):\n",
    "        expected = expected + x[i]*p[i]\n",
    "    return expected\n",
    "\n",
    "def variance(x, p):\n",
    "    expected = E(x, p)\n",
    "    ex2 = 0\n",
    "    for i in range(0, len(x)):\n",
    "        ex2 = ex2 + (x[i]**2)*p[i]\n",
    "    return ex2 - (expected ** 2)\n",
    "\n",
    "def std(x, p):\n",
    "    return (variance(x, p) ** (0.5))"
   ]
  },
  {
   "cell_type": "markdown",
   "metadata": {},
   "source": [
    "    \n",
    "- __Example__:\n",
    "    \n",
    "| x   | p(x) |\n",
    "| --- | ---  |\n",
    "| 0   | .3   |\n",
    "| 1   | .4   |\n",
    "| 2   | .3   |\n",
    "\n",
    "\n",
    "| y   | p(y) |\n",
    "| --- | ---  |\n",
    "| 0   | .1   |\n",
    "| 1   | .8   |\n",
    "| 2   | .1   |\n",
    "\n",
    "Find the mean of data sets."
   ]
  },
  {
   "cell_type": "code",
   "execution_count": 5,
   "metadata": {},
   "outputs": [],
   "source": [
    "x  = [0, 1, 2]\n",
    "px = [.3,.4,.3]\n",
    "y  = [0, 1, 2]\n",
    "py = [.1,.8,.1]"
   ]
  },
  {
   "cell_type": "code",
   "execution_count": 6,
   "metadata": {},
   "outputs": [
    {
     "data": {
      "text/plain": [
       "1.0"
      ]
     },
     "execution_count": 6,
     "metadata": {},
     "output_type": "execute_result"
    }
   ],
   "source": [
    "E(x, px)"
   ]
  },
  {
   "cell_type": "code",
   "execution_count": 7,
   "metadata": {},
   "outputs": [
    {
     "data": {
      "text/plain": [
       "1.0"
      ]
     },
     "execution_count": 7,
     "metadata": {},
     "output_type": "execute_result"
    }
   ],
   "source": [
    "E(y, py)"
   ]
  },
  {
   "cell_type": "markdown",
   "metadata": {},
   "source": [
    "- Which dataset has more variation? \n",
    "    - X DOES\n",
    "        - __You know why???__"
   ]
  }
 ],
 "metadata": {
  "kernelspec": {
   "display_name": "Python 3",
   "language": "python",
   "name": "python3"
  },
  "language_info": {
   "codemirror_mode": {
    "name": "ipython",
    "version": 3
   },
   "file_extension": ".py",
   "mimetype": "text/x-python",
   "name": "python",
   "nbconvert_exporter": "python",
   "pygments_lexer": "ipython3",
   "version": "3.6.8"
  }
 },
 "nbformat": 4,
 "nbformat_minor": 2
}
