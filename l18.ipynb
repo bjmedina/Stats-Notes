{
 "cells": [
  {
   "cell_type": "markdown",
   "metadata": {},
   "source": [
    "# February 20, 2019\n",
    "\n",
    "## Chapter 5, Continuous Random Variables\n",
    "---\n",
    "- Continuous: Can assume any value within some interval\n",
    "\n",
    "### Section 5.1 Continuous Probability Distributions\n",
    "- Graphical form of a continuous random variable $X$ is a smooth curve that might appear as shown.\n",
    "\n",
    "- Three different distributions we'll study\n",
    "    - Normal, Uniform, Exponential."
   ]
  },
  {
   "cell_type": "code",
   "execution_count": 19,
   "metadata": {},
   "outputs": [
    {
     "data": {
      "image/png": "[encoded data removed]",
      "text/plain": [
       "<Figure size 432x288 with 1 Axes>"
      ]
     },
     "metadata": {
      "needs_background": "light"
     },
     "output_type": "display_data"
    },
    {
     "data": {
      "image/png": "[encoded data removed]",
      "text/plain": [
       "<Figure size 432x288 with 1 Axes>"
      ]
     },
     "metadata": {
      "needs_background": "light"
     },
     "output_type": "display_data"
    }
   ],
   "source": [
    "import numpy as np \n",
    "import matplotlib.pyplot as plt\n",
    "\n",
    "values= np.random.normal(90,2, 100000)\n",
    "plt.title(\"Approximation of Normal Curve\")\n",
    "plt.hist(values,500)\n",
    "plt.show()\n",
    "\n",
    "s = np.random.uniform(-1,0,100000)\n",
    "count, bins, ignored = plt.hist(s, 15, density=True)\n",
    "plt.title(\"Approximation of Uniform Distribution\")\n",
    "plt.plot(bins, np.ones_like(bins), linewidth=2, color='r')\n",
    "plt.show()\n",
    "\n"
   ]
  },
  {
   "cell_type": "markdown",
   "metadata": {},
   "source": [
    "- The curve is a function of x and is denoted by f(x)\n",
    "    - Called __Probability density function__\n",
    "    - or __Probability Distribution__<br><br>\n",
    "\n",
    "- __Properties__:\n",
    "    1. Total area under the curve is 1\n",
    "    2. $P(X=a) = 0$. Why?\n",
    "    3. $P(a<X<b) = P(a\\leq X \\leq B) =$ Area under the density function between a and b\n",
    "    \n",
    "- With discrete distributions, out probabilities massed at the possible values of x.\n",
    "\n",
    "- With continuous distributions, our probabilities are found by looking for the area between 2 points.\n",
    "\n",
    "\n",
    "### Section 5.2 The Uniform Distribution\n",
    "- A continuous probability distributionwhere every value of x is equally likely over the range of values. <br> <br>\n",
    "\n",
    "- __EX.__: Temperature near the equator <br> <br>\n",
    "\n",
    "- What $f(x)$ satisfy the rectangle?\n",
    "    - $f(x) = \\dfrac 1 {b-a}$ for $c \\leq x \\leq d$, and $ 0 $ everywhere else\n",
    "    - Area gives you one.\n",
    "        - Think of the area of a rectangle\n",
    "    - $\\mu = \\dfrac {b+a} 2$, $\\sigma = \\dfrac {b-a} {\\sqrt(12)}$\n",
    "    \n",
    "    \n",
    "- Let $c,d$ be defined $a < c \\leq d < b$. \n",
    "    - Then, $P(c\\leq X \\leq d) = \\dfrac {d - c} {b - a}$\n",
    "    \n",
    "    \n",
    "- __EX__. Let x be uniform from 70-85.\n",
    "    - a. What is $f(x)$?\n",
    "        - $f(x) = \\dfrac 1 {15}, 70 \\leq x \\leq 85$, and $0$ everywhere else\n",
    "    <br><br>\n",
    "    - b. $\\mu, \\sigma$?\n",
    "        - $\\mu = \\dfrac {70+85} 2, \\sigma = \\dfrac {85 - 70} {\\sqrt(12)}$\n",
    "    <br><br>\n",
    "    - c. $P(x>90) = ?$\n",
    "        - 0\n",
    "    <br><br>    \n",
    "    - d. $P(x < 80) = ?$\n",
    "        - $P(70 \\leq X \\leq 80) = \\dfrac {80-70} {85-70} = \\dfrac {10} {15} = \\dfrac 2 3$\n",
    "    <br><br>\n",
    "          \n",
    "    - e. $P(x=75) = ?$\n",
    "        - $P(x=75) = 0$\n",
    "    <br><br>       \n",
    "    - f. $P( x > 65 ) = ?$\n",
    "        - $P(x >65 ) = 1$\n",
    "    <br><br>   \n",
    "    - g. $P(75 < x < 80)$\n",
    "        - $P(75 < x < 80) = \\dfrac {80 - 75} {85-70} = \\dfrac 1 3$\n",
    "        \n",
    "- __EX__: A machine pumps cleanser into a process at a rate of 7 gallons per minutes. Upon inspection, it is learned that the machine pumps cleanser at a rate described by the uniform disgribution over the interval 6.5 to 7.5 gallons per minute\n",
    "\n",
    "    1. what is the mean of this distribution? the standard deviation?\n",
    "        - $\\mu = \\dfrac {6.5 + 7.5} 2$\n",
    "        - $\\sigma = \\dfrac {7.5 - 6.5} {\\sqrt(12)}$<br><br>\n",
    "    2. Find the probability that the machine pumps less than 7 gallons during a randomly selected minute.\n",
    "        - $P(x < 7) = P(x \\leq 7) = \\dfrac {7-6.5} {7.5-6.5} = \\dfrac 1 2$\n",
    "        \n",
    "        \n",
    "        \n",
    "### Section 5.3 The Normal Distribution\n",
    "\n",
    "- Bell shaped, mound shaped, normal\n",
    "- Super important\n",
    "- Expansion of empirical rule\n",
    "- $N(\\mu, \\sigma)$ is the notation\n",
    "- $\\mu$ shifts the graph, $\\sigma$ widens/shrinks it."
   ]
  },
  {
   "cell_type": "code",
   "execution_count": null,
   "metadata": {},
   "outputs": [],
   "source": []
  }
 ],
 "metadata": {
  "kernelspec": {
   "display_name": "Python 3",
   "language": "python",
   "name": "python3"
  },
  "language_info": {
   "codemirror_mode": {
    "name": "ipython",
    "version": 3
   },
   "file_extension": ".py",
   "mimetype": "text/x-python",
   "name": "python",
   "nbconvert_exporter": "python",
   "pygments_lexer": "ipython3",
   "version": "3.6.8"
  }
 },
 "nbformat": 4,
 "nbformat_minor": 2
}
