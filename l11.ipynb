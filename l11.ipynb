{
 "cells": [
  {
   "cell_type": "markdown",
   "metadata": {},
   "source": [
    "# February 1, 2019\n",
    "\n",
    "## Section 3.1 Cont: Combinations Rule (Order Does Not Matter)\n",
    "---\n",
    "\n",
    "Choose a sample of size n without replacement from a set of N elements. Then the number of different samples that can be selected is: \n",
    "\n",
    "$ {N \\choose n} = \\dfrac{N!} {n!(N-n)!}$\n",
    "\n",
    "__Ex. Florida Lotto - pick 6 numbers from 53__\n",
    "\n",
    "$ {53 \\choose 6} = \\dfrac{53!} {6!(47!)} = \\dfrac{53*52*51*50*49*48} {6*5*4*3*2*1} = 22,957,480 $\n",
    "\n",
    "\n",
    "So... you have a $\\dfrac{6} {22,957,480}$ chance in winning the lottery"
   ]
  },
  {
   "cell_type": "markdown",
   "metadata": {},
   "source": [
    "## Section 3.2 Unions and Intersections\n",
    "---\n",
    "\n",
    "These are _compound events_ - they are formed by the composition of two or more other events\n",
    "\n",
    "Union $(A \\cup B)$ -- __OR__ -- Event that occurs if either A or B or both occur on a single performance of an experiment\n",
    "\n",
    "Intersection $(A \\cap B)$ -- __AND__ -- Event that occurs if both A and B occur\n",
    "\n",
    "__Ex. Our experiment will consist of tossing a dair die once.__\n",
    "\n",
    "Let A = getting an even number\n",
    "\n",
    "Let B = getting a number greater than 4"
   ]
  },
  {
   "cell_type": "markdown",
   "metadata": {},
   "source": [
    "## Section 3.3 Complementary Events\n",
    "---\n",
    "\n",
    "The _complement_ of an event A is that A does not occur.\n",
    "\n",
    "Notation: $A^c$\n",
    "\n",
    "_Note:_ $P(A) \\ +\\ P(A^c)\\ =\\ 1$\n",
    "\n",
    "__EX. What's the complement of event B?__\n",
    "\n",
    "$B\\ =\\ \\{5,6\\}$\n",
    "\n",
    "$B^c \\ = \\ \\{1,2,3,4\\}$\n",
    "\n",
    "_Note:_ When you say the phrase \"at least\" ... \n",
    "\n",
    "__EX. Probability of getting at least 1 number in p__\n"
   ]
  },
  {
   "cell_type": "markdown",
   "metadata": {},
   "source": [
    "## Section 3.4 Additive Rule and Mutually Exclusive Events\n",
    "---\n",
    "\n",
    "Additive Rule:\n",
    "\n",
    "$P(A\\cup B) = P(A) \\ +\\ P(B) \\ - P(A\\cap B)$\n",
    "\n",
    "...Remember why we subtract $P(A\\cap B)$\n",
    "\n",
    "Mutually Exclusive:\n",
    "\n",
    "If $A\\cap B \\ = \\ \\emptyset$, then A and B are said to be mutually exclusive and $P(A\\cap B) = 0$\n",
    "\n",
    "\n",
    "__Ex. Toss a fair die once. Define:__\n",
    "\n",
    "A = number greater than 5\n",
    "B = odd number\n",
    "...\n",
    "\n",
    "\n",
    "$A\\cap B = \\emptyset$ NOT 0"
   ]
  },
  {
   "cell_type": "markdown",
   "metadata": {},
   "source": [
    "## Section 3.5 Conditional Probability\n",
    "---\n",
    "\n",
    "Conditional probability that Event A occurs _given_ that Event B has occurred.\n",
    "\n",
    "__Ex. Toss a fair die once. Define:__ \n",
    "\n",
    "A = get an odd number = $\\{1,3,5\\}$\n",
    "\n",
    "B = get a number greater that or equal to 4 = $\\{4,5,6\\}$\n",
    "\n",
    "\n",
    "If you know B has occurred, the sample space has been reduced to 4,5, or 6.  \n",
    "\n",
    "How many elements in A are in B? Just one...\n",
    "\n",
    "So the probability that A occurs _given_ B is $\\dfrac 1 3$"
   ]
  },
  {
   "cell_type": "code",
   "execution_count": null,
   "metadata": {},
   "outputs": [],
   "source": []
  }
 ],
 "metadata": {
  "kernelspec": {
   "display_name": "Python 3",
   "language": "python",
   "name": "python3"
  },
  "language_info": {
   "codemirror_mode": {
    "name": "ipython",
    "version": 3
   },
   "file_extension": ".py",
   "mimetype": "text/x-python",
   "name": "python",
   "nbconvert_exporter": "python",
   "pygments_lexer": "ipython3",
   "version": "3.6.8"
  }
 },
 "nbformat": 4,
 "nbformat_minor": 2
}
