{
 "cells": [
  {
   "cell_type": "markdown",
   "metadata": {},
   "source": [
    "# February 6, 2019\n",
    "\n",
    "## Section 3.7 Some Counting Rules\n",
    "--- \n",
    "\n",
    "- How many outcomes are possible?\n",
    "\n",
    "- Already learned about combinations (order did not matter)  \n",
    "    - $ {N \\choose n} = \\dfrac{N!} {n!(N-n)!}$ \"How way ways to choose $n$ things from $N$ things\"\n",
    "    \n",
    "    \n",
    "- __Multiplicative Rule__: \n",
    "\n",
    "    - For $k$ sets of elements, $n_1$ in the 1st set, $n_2$ in the 2nd set, ..., $n_k$ in the kth set, you wish to form a sample of k elements by taking one element from each of the k sets. THe number of different sets that can be formed is: $n_1n_2...n_k$\n",
    "    \n",
    "    - __Example__: A certain Ford automobile can come either standard or automatic, in one of 8 colors, and in one of 3 styles. How many different cars are possible?\n",
    "        - (car can be standard or automatic) * (one of 8 colors) * (one of 3 body styles) = 2 * 8 * 3 = __48 different cars__ \n",
    "        \n",
    "    - __Example__: In how many ways can you arrange 5 distinct books on a bookshelf? \n",
    "        - ( 5 ways to pick the first book ) * ( 4 ways to pick the second ) * ... * ( 1 way to pick the last ) =  5 * 4 * 3 * 2 * 1 = __120 different ways to arrange the 5 books__\n",
    "  \n",
    "  \n",
    "  \n",
    "- __Permutations Rule__:\n",
    "    \n",
    "    - __ORDER MATTERS__\n",
    "    - Given a single set of $N$ distinct items, you select $n$ and arrange them, not allowing repetition: $P_{n}^N = \\dfrac {N!} {(N-n)!}$\n",
    "    \n",
    "    - __Example__: There are 36 golfers entered in a tournament. In how many different ways can they place first, second, third?\n",
    "        - $P_{3}^{36} = \\dfrac {36!} {(36 - 3)!} = \\dfrac {36!} {33!} = $ __42,840 ways 3 of the 36 golfers can be placed__\n",
    "        \n",
    "    - You can use the permutations rule in the book example previously stated, because order _did_ matter in that example.\n",
    "    \n",
    "- __Partitions Rule__: \n",
    "\n",
    "    - If there are $N$ items with $n_1$ alike, $n_2$ alike, ..., $n_k$ alike, the number of permutations of all $N$ iterms is: $\\dfrac {N!} {n_1!n_2!...n_k!}$\n",
    "    \n",
    "    - __Example__: How many ways can you arrange the letters in STATISTICS?\n",
    "        - S = 3, T = 3, A = 1, I = 2, C = 1\n",
    "        - $ \\dfrac {10!} {3!3!1!2!1!} $\n",
    "        \n",
    "    - __Example__: I have a group of 12 UCF students.\n",
    "        - a. How many ways can I choose 6 of the students to participate in a special project\n",
    "            - $ {12 \\choose 6} = 924 $\n",
    "        - b. How many ways can I choose 6 if the 1st is the president, 2nd vice president, ..., 6th vice president?\n",
    "            - $ \\dfrac {12!} {6!} = 665,280 $\n",
    "            - This is a permutations question\n",
    "        - c. How many ways can I choose 6 of the students to participate in a special project if 1 will be the group leader, 3 will do research, 2 will do marketing?\n",
    "            - __DON'T FORGET THE GENERAL POPULATION__\n",
    "            - $ \\dfrac {12!} {1!3!2!6!} = 55,440 $"
   ]
  },
  {
   "cell_type": "code",
   "execution_count": null,
   "metadata": {},
   "outputs": [],
   "source": []
  }
 ],
 "metadata": {
  "kernelspec": {
   "display_name": "Python 3",
   "language": "python",
   "name": "python3"
  },
  "language_info": {
   "codemirror_mode": {
    "name": "ipython",
    "version": 3
   },
   "file_extension": ".py",
   "mimetype": "text/x-python",
   "name": "python",
   "nbconvert_exporter": "python",
   "pygments_lexer": "ipython3",
   "version": "3.6.8"
  }
 },
 "nbformat": 4,
 "nbformat_minor": 2
}
