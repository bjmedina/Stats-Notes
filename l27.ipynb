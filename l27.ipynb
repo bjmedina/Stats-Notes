{
 "cells": [
  {
   "cell_type": "markdown",
   "metadata": {},
   "source": [
    "# March 22, 2019\n",
    "\n",
    "## Section 7.4 Large Sample Confidence Interval for a Population Proportion\n",
    "---\n",
    "\n",
    "- Interval Estimation for __binomial data__. \n",
    "- $Proportion = \\dfrac {number \\ of\\ successes} {total\\ sample\\ size}$\n",
    "- $p = population\\ proportion\\ $(_between 0 and 1_)\n",
    "- $\\hat p = sample\\ proportion\\ $(_unbiased and efficient -- p-hat_)<br><br>\n",
    "\n",
    "### Sampling Distribution for $\\hat p$\n",
    "---\n",
    "1. The \"mean\" of the distribution will be $p$\n",
    "    - $\\mu_{\\hat p} = p$\n",
    "\n",
    "2. The standard error will be\n",
    "    - $\\sigma_{\\hat p} = \\sqrt{\\dfrac {pq} n }$, where $q = 1-p$\n",
    "\n",
    "3. Will be approximately normal for large sample (check $n\\hat p \\geq 15, n\\hat q \\geq 15$)\n",
    "    - You want to have at least 15 successes and 15 failures.\n",
    "    \n",
    "    \n",
    "### Large Sample Confidence Interval for $p$\n",
    "---\n",
    "\n",
    "- $\\hat p \\pm z_{\\dfrac \\alpha 2} \\sqrt{ \\dfrac {pq} n} \\approx \\hat p \\pm z_{\\dfrac \\alpha 2} \\sqrt{ \\dfrac {\\hat p \\hat q} n}$\n",
    "    - $where\\ \\hat p = \\dfrac x n$ $and\\ \\hat q = 1 - \\hat p$\n",
    "    - Note: When $n$ is large, $\\hat p$ can approximate $p$ in the standard error\n",
    "    \n",
    "### EX 3\n",
    "---\n",
    "\n",
    "- A survey showed that of 785 randomnly selected people who finished college, 18.3% smnoke. Construct a 96% confidence interval for true percentage of smokers among all people who completed 4 years of college.\n",
    "    - Proportion $\\rightarrow$ check n large\n",
    "    - $n\\hat p \\geq 15 \\rightarrow 785(.183) = 143.655 \\geq 15$\n",
    "    - $n\\hat q \\geq 15 \\rightarrow 785(1-.183) = 641.345 \\geq 15$<br><br>\n",
    "    - Now... $96\\%$ implies an $\\alpha$ of $4\\%$ ($2\\%$ error on both ends of the normal curve)\n",
    "    - $.02$ are on the tails, the insides of the curves are $.48$... look up the z value for $.48$. That's your $z_{\\dfrac \\alpha 2}$. \n",
    "        - $.183 \\pm .0283$\n",
    "        - $[.1547,\\ .2113]$\n",
    "        - Interpretation: We are $96\\%$ confident that the true percentage of smokers among all people who completed four years of college is between $15.47\\%$ and $21.13\\%$. \n",
    "            - \"True percentage\" is $p$, not $\\hat p$\n",
    "            \n",
    "            \n",
    "### EX 4\n",
    "---\n",
    "\n",
    "- Blah blah, survey. 1078 responded yes, 336 responded no. Construct a 99% CI for the proportion of American adults who answered yes. Interpret. Can you conclude that more than half of all Americans would answer yes?\n",
    "    - $\\hat p = \\dfrac x n = \\dfrac {1078} {1078+336} = .76$\n",
    "        - You do this because of the fact that it's a proportion. \n",
    "    - $n\\hat p \\geq 15 \\rightarrow \\ : )$\n",
    "    - $n\\hat q \\geq 15 \\rightarrow\\  : )$\n",
    "    - $\\hat p \\pm z_{\\dfrac \\alpha 2} \\sqrt{ \\dfrac {\\hat p \\hat q} n} = .76 \\pm 2.575*\\sqrt{\\dfrac{.76*.24}{1414}} = .76 \\pm .0292$\n",
    "    - $[.7308, .7892]$\n",
    "    - Interpretation: We are $99\\%$ confident that the true proportion of American adults that would answer yes is between .7308 and .7892."
   ]
  },
  {
   "cell_type": "code",
   "execution_count": null,
   "metadata": {},
   "outputs": [],
   "source": []
  }
 ],
 "metadata": {
  "kernelspec": {
   "display_name": "Python 3",
   "language": "python",
   "name": "python3"
  },
  "language_info": {
   "codemirror_mode": {
    "name": "ipython",
    "version": 3
   },
   "file_extension": ".py",
   "mimetype": "text/x-python",
   "name": "python",
   "nbconvert_exporter": "python",
   "pygments_lexer": "ipython3",
   "version": "3.6.8"
  }
 },
 "nbformat": 4,
 "nbformat_minor": 2
}
