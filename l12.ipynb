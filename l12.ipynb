{
 "cells": [
  {
   "cell_type": "markdown",
   "metadata": {},
   "source": [
    "# February 4, 2019\n",
    "\n",
    "## Section 3.5 Conditional Probability (Cont.)\n",
    "\n",
    "### Notation: \n",
    "---\n",
    "\n",
    "$P(A|B)$ is \"The probability A occurs _given_ B has occurred\"\n",
    "\n",
    "__How do we compute this?__:\n",
    "$P(A|B)\\ =\\ \\dfrac{P(A\\cap B)} {P(B)}$, where $P(B) \\neq 0$\n",
    "\n",
    "\n",
    "## Section 3.6 The Multiplicative Rule and Independent Events\n",
    "\n",
    "_NOTE:_ \"AND\" is the MULTIPLICATIVE RULE\n",
    "\n",
    "__Multiplicative Rule__:\n",
    "\n",
    "$P(A\\cap B) = P(A)P(B|A) = P(B)P(A|B)$\n",
    "\n",
    "_Note:_ Usually only one of the two equations makes sense to find. \n",
    "\n",
    "\n",
    "\n",
    "__Ex:__ Ten people are in the final interview stage for 2 open positions at a company. There are 6 males and 4 females, all equally qualified.\n",
    "\n",
    "        Define: A = male picked for job #1\n",
    "                B = male picked for job #2\n",
    "                \n",
    "__What is the probability:__\n",
    "\n",
    "__a. the 2 jobs are given to males?__\n",
    "\n",
    "We can rewrite this question to be \"Whats $P(A\\cap B)$ ?\"\n",
    "\n",
    "$P(A\\cap B) = P(A)P(B|A) = P(B)P(A|B) = \\dfrac{6*5} {10*9}$\n",
    "\n",
    "_Note_: $P(A) = \\dfrac 6 {10}$ because there are 6 men, and 10 total employees... \n",
    "\n",
    "\n",
    "__b. the jobs are given to females__\n",
    "\n",
    "\n",
    "$P(A^c\\cap B^c) = P(A^c)P(B^c|A^c) = P(B^c)P(A^c|B^c) = \\dfrac 4 {10} * \\dfrac 3 {9} = \\dfrac {12} {90}$\n",
    "\n",
    "\n",
    "\n",
    "### Independent Events\n",
    "\n",
    "Events A and B are independent if the occurence of A does not alter the probability that B has occurred\n",
    "\n",
    "Check $P(A|B) = P(A)$ or $P(B|A) = P(B)$\n",
    "\n",
    "_NOTE_: MUTUALLY EXCLUSIVE EVENTS ARE DEPENDENT!\n",
    "    If asked for Mutual Exclusive, check the intersection (if empty)\n",
    "    \n",
    "\n",
    "$P(A\\cap B) = P(A)P(B)$ _**can be expanded**_\n"
   ]
  },
  {
   "cell_type": "code",
   "execution_count": null,
   "metadata": {},
   "outputs": [],
   "source": []
  }
 ],
 "metadata": {
  "kernelspec": {
   "display_name": "Python 3",
   "language": "python",
   "name": "python3"
  },
  "language_info": {
   "codemirror_mode": {
    "name": "ipython",
    "version": 3
   },
   "file_extension": ".py",
   "mimetype": "text/x-python",
   "name": "python",
   "nbconvert_exporter": "python",
   "pygments_lexer": "ipython3",
   "version": "3.6.8"
  }
 },
 "nbformat": 4,
 "nbformat_minor": 2
}
