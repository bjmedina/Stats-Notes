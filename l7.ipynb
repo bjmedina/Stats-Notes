{
 "cells": [
  {
   "cell_type": "markdown",
   "metadata": {},
   "source": [
    "# January 23, 2019\n",
    "\n",
    "## Section 2.6 Cont.\n"
   ]
  },
  {
   "cell_type": "code",
   "execution_count": 1,
   "metadata": {},
   "outputs": [],
   "source": [
    "Ages = [ 22, 21, 39, 24, 20, 19, 19, 23 ]"
   ]
  },
  {
   "cell_type": "markdown",
   "metadata": {},
   "source": [
    "__Example:__\n",
    "\n",
    "Given the above dataset,\n",
    "\n",
    "$\\bar{x}\\ =\\ 23.4$\n",
    "\n",
    "$s\\ =\\ 6.57$\n",
    "\n",
    "$z\\ =\\ \\dfrac{x - \\bar{x}} s \\ = 2.37$\n",
    "\n",
    "$\\therefore \\ $, _it is a possible outlier_"
   ]
  },
  {
   "cell_type": "markdown",
   "metadata": {},
   "source": [
    "## Section 2.7 - SKIP\n",
    "----"
   ]
  },
  {
   "cell_type": "markdown",
   "metadata": {},
   "source": [
    "## Section 2.8 Graphing Bivariate Relationships"
   ]
  },
  {
   "cell_type": "markdown",
   "metadata": {},
   "source": [
    "_Question:_ Is there a relationship between 2 quantitative variables?\n",
    "\n",
    "        Correlated, associated, related...\n",
    "                These words all ask for some bivariate relationship\n",
    "                "
   ]
  },
  {
   "cell_type": "markdown",
   "metadata": {},
   "source": [
    "### Positive Correlation\n",
    "-----"
   ]
  },
  {
   "cell_type": "code",
   "execution_count": 10,
   "metadata": {},
   "outputs": [
    {
     "data": {
      "image/png": "[encoded data removed]",
      "text/plain": [
       "<Figure size 432x288 with 1 Axes>"
      ]
     },
     "metadata": {},
     "output_type": "display_data"
    }
   ],
   "source": [
    "import matplotlib.pyplot as plt\n",
    "plt.style.use('seaborn-whitegrid')\n",
    "import numpy as np\n",
    "\n",
    "x = np.linspace(0, 10, 30)\n",
    "y = x + np.random.randint(0, 4, size=len(x))\n",
    "\n",
    "plt.plot(x, y, 'o', color='black');"
   ]
  },
  {
   "cell_type": "markdown",
   "metadata": {},
   "source": [
    "### Negative Correlation\n",
    "---"
   ]
  },
  {
   "cell_type": "code",
   "execution_count": 13,
   "metadata": {},
   "outputs": [
    {
     "data": {
      "image/png": "[encoded data removed]",
      "text/plain": [
       "<Figure size 432x288 with 1 Axes>"
      ]
     },
     "metadata": {},
     "output_type": "display_data"
    }
   ],
   "source": [
    "plt.clf()\n",
    "x = np.linspace(0, 10, 30)\n",
    "y = -1*x + np.random.randint(0, 4, size=len(x))\n",
    "\n",
    "plt.plot(x, y, 'o', color='black');"
   ]
  },
  {
   "cell_type": "markdown",
   "metadata": {},
   "source": [
    "### No Correlation\n",
    "---"
   ]
  },
  {
   "cell_type": "code",
   "execution_count": 16,
   "metadata": {},
   "outputs": [
    {
     "data": {
      "image/png": "[encoded data removed]",
      "text/plain": [
       "<Figure size 432x288 with 1 Axes>"
      ]
     },
     "metadata": {},
     "output_type": "display_data"
    }
   ],
   "source": [
    "plt.clf()\n",
    "x = np.linspace(0, 10, 30)\n",
    "y = np.random.randint(-1, 1, size=len(x))*x + np.random.randint(0, 200, size=len(x))\n",
    "\n",
    "plt.plot(x, y, 'o', color='black');"
   ]
  },
  {
   "cell_type": "markdown",
   "metadata": {},
   "source": [
    "### Non-Linear Correlation\n",
    "---"
   ]
  },
  {
   "cell_type": "code",
   "execution_count": 17,
   "metadata": {},
   "outputs": [
    {
     "data": {
      "image/png": "[encoded data removed]",
      "text/plain": [
       "<Figure size 432x288 with 1 Axes>"
      ]
     },
     "metadata": {},
     "output_type": "display_data"
    }
   ],
   "source": [
    "plt.clf()\n",
    "x = np.linspace(0, 10, 30)\n",
    "y = np.sin(x)\n",
    "\n",
    "plt.plot(x, y, 'o', color='black');"
   ]
  },
  {
   "cell_type": "markdown",
   "metadata": {},
   "source": [
    "## Correlation and Regression\n",
    "\n",
    "__How do you analyze a pair of variables (one explanatory, one response) to determine if a relation (correlation) exists?__\n",
    "\n",
    "_Explanatory Variable:_ is the independent x variable\n",
    "\n",
    "_Response Variable_: is the dependent y variable\n",
    "\n",
    "__Example__:\n",
    "    \n",
    "    Do you think a relationship exists between IQ and height?\n",
    "    \n",
    "        FUCK NO\n",
    "    \n",
    "    Between high school grades and college grades?\n",
    "    \n",
    "        Should be positive linear correlation\n",
    "    \n",
    "We use a scatterplot to graph the ordered pairs (x,y) to help determine if a correlation exists.\n",
    "\n",
    "\n",
    "__How do we know if this is a significant relationship?__\n",
    "\n",
    "_Correlation Coefficient (r):_ Measure of the strength and direction of a linear relationship between two variables\n",
    "\n",
    "-We will use Excel output to find correlation\n",
    "\n",
    "-Sample correlation denoted by $r$\n",
    "\n",
    "-Population correlation denoted by $\\rho$ (rho)"
   ]
  },
  {
   "cell_type": "markdown",
   "metadata": {},
   "source": [
    "## Properties of r\n",
    "----\n",
    "\n",
    "1. $-1\\ \\leq \\ r\\ \\leq \\ 1$\n",
    "\n",
    "\n",
    "2. The larger $|r|$, the stronger the degree of _linear_ association\n",
    "\n",
    "\n",
    "3. $r$ has the same sign as the slope\n",
    "    $r$ > 0 means positive relationship, < 0 means negative relationship, = 0 means no relationship\n",
    "    \n",
    "    \n",
    "4. $r = \\pm \\ 1$ when all points are on the line\n",
    "\n",
    "\n",
    "5. $r$ does not depend on the variable units\n",
    "\n",
    "\n",
    "6. $Y$ to predict $X$ and $X$ to predict $Y$ have the same value of $r$\n"
   ]
  },
  {
   "cell_type": "markdown",
   "metadata": {},
   "source": [
    "## How do we know if this is a significant relationship?\n",
    "---\n",
    "\n",
    "Is there evidence?\n",
    "\n",
    "Use Critical Values from the Pearson Correlation Coefficient table (from the pink sheet)\n",
    "\n",
    "( $n  =\\ \\#$ ) of pairs to test a population correlation coefficient\n",
    "\n",
    "\n",
    "If $|r|>$ critical value, there is evidence the correlation is significant\n",
    "\n",
    "## On the sheet\n",
    "\n",
    "-$\\alpha$ is the measure of reliability (test will tell you which value of $\\alpha$ to use)"
   ]
  },
  {
   "cell_type": "code",
   "execution_count": null,
   "metadata": {},
   "outputs": [],
   "source": []
  }
 ],
 "metadata": {
  "kernelspec": {
   "display_name": "Python 3",
   "language": "python",
   "name": "python3"
  },
  "language_info": {
   "codemirror_mode": {
    "name": "ipython",
    "version": 3
   },
   "file_extension": ".py",
   "mimetype": "text/x-python",
   "name": "python",
   "nbconvert_exporter": "python",
   "pygments_lexer": "ipython3",
   "version": "3.6.6"
  }
 },
 "nbformat": 4,
 "nbformat_minor": 2
}
